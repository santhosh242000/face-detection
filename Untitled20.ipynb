{
  "nbformat": 4,
  "nbformat_minor": 0,
  "metadata": {
    "colab": {
      "provenance": []
    },
    "kernelspec": {
      "name": "python3",
      "display_name": "Python 3"
    },
    "language_info": {
      "name": "python"
    }
  },
  "cells": [
    {
      "cell_type": "code",
      "execution_count": null,
      "metadata": {
        "colab": {
          "base_uri": "https://localhost:8080/"
        },
        "id": "ZKIVuDqeRxYh",
        "outputId": "fe5880b0-e528-4eaf-e9c8-6149b36d3ff1"
      },
      "outputs": [
        {
          "output_type": "stream",
          "name": "stdout",
          "text": [
            "Encrypted Response: +VV2jN6pODs8w46ew6QXjD6NrRthdU8lnIJwcjzNPRY=\n",
            "Decrypted Response: The capital of France is Paris.\n"
          ]
        }
      ],
      "source": [
        "from cryptography.hazmat.primitives.ciphers import Cipher, algorithms, modes\n",
        "from cryptography.hazmat.primitives import padding\n",
        "from cryptography.hazmat.primitives.kdf.pbkdf2 import PBKDF2HMAC\n",
        "from cryptography.hazmat.backends import default_backend\n",
        "from cryptography.hazmat.primitives import hashes\n",
        "import os\n",
        "import base64\n",
        "\n",
        "# Key and IV Generation\n",
        "def generate_key(password: str, salt: bytes):\n",
        "    \"\"\"\n",
        "    Derives a 256-bit AES key from a password using PBKDF2.\n",
        "    \"\"\"\n",
        "    kdf = PBKDF2HMAC(\n",
        "        algorithm=hashes.SHA256(),\n",
        "        length=32,  # AES-256 key\n",
        "        salt=salt,\n",
        "        iterations=100000,\n",
        "        backend=default_backend()\n",
        "    )\n",
        "    return kdf.derive(password.encode())\n",
        "\n",
        "def encrypt_response(response: str, key: bytes, iv: bytes):\n",
        "    \"\"\"\n",
        "    Encrypts the test response using AES encryption.\n",
        "    \"\"\"\n",
        "    # Pad the plaintext to make it a multiple of block size\n",
        "    padder = padding.PKCS7(algorithms.AES.block_size).padder()\n",
        "    padded_data = padder.update(response.encode()) + padder.finalize()\n",
        "\n",
        "    # Encrypt the data\n",
        "    cipher = Cipher(algorithms.AES(key), modes.CFB(iv), backend=default_backend())\n",
        "    encryptor = cipher.encryptor()\n",
        "    encrypted_data = encryptor.update(padded_data) + encryptor.finalize()\n",
        "\n",
        "    # Encode in Base64 for storage\n",
        "    return base64.b64encode(encrypted_data).decode()\n",
        "\n",
        "def decrypt_response(encrypted_response: str, key: bytes, iv: bytes):\n",
        "    \"\"\"\n",
        "    Decrypts the AES-encrypted response.\n",
        "    \"\"\"\n",
        "    # Decode from Base64\n",
        "    encrypted_data = base64.b64decode(encrypted_response)\n",
        "\n",
        "    # Decrypt the data\n",
        "    cipher = Cipher(algorithms.AES(key), modes.CFB(iv), backend=default_backend())\n",
        "    decryptor = cipher.decryptor()\n",
        "    padded_data = decryptor.update(encrypted_data) + decryptor.finalize()\n",
        "\n",
        "    # Remove padding\n",
        "    unpadder = padding.PKCS7(algorithms.AES.block_size).unpadder()\n",
        "    data = unpadder.update(padded_data) + unpadder.finalize()\n",
        "    return data.decode()\n",
        "\n",
        "# Example Workflow\n",
        "if __name__ == \"__main__\":\n",
        "    # Test parameters\n",
        "    password = \"securepassword\"  # User-provided password for key derivation\n",
        "    salt = os.urandom(16)        # Unique salt for key generation\n",
        "    iv = os.urandom(16)          # Initialization vector for AES\n",
        "\n",
        "    # Generate key\n",
        "    key = generate_key(password, salt)\n",
        "\n",
        "    # User response to encrypt\n",
        "    response = \"The capital of France is Paris.\"\n",
        "\n",
        "    # Encrypt the response\n",
        "    encrypted_response = encrypt_response(response, key, iv)\n",
        "    print(f\"Encrypted Response: {encrypted_response}\")\n",
        "\n",
        "    # Decrypt the response\n",
        "    decrypted_response = decrypt_response(encrypted_response, key, iv)\n",
        "    print(f\"Decrypted Response: {decrypted_response}\")\n"
      ]
    },
    {
      "cell_type": "code",
      "source": [],
      "metadata": {
        "id": "z3lCsgupST3p"
      },
      "execution_count": null,
      "outputs": []
    }
  ]
}